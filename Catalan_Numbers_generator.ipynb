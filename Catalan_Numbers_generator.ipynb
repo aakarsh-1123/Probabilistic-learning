{
  "cells": [
    {
      "cell_type": "code",
      "execution_count": 12,
      "metadata": {
        "colab": {
          "base_uri": "https://localhost:8080/"
        },
        "id": "Ykluy1Oisb4S",
        "outputId": "59ae300c-099f-407c-ec9c-fb5d15c25558"
      },
      "outputs": [],
      "source": [
        "def findCatalan(n):\n",
        "    catalan = [0]*(n+1)\n",
        "    catalan[0]=1\n",
        "    for i in range(1,n+1):\n",
        "        catalan[i]=0\n",
        "        for j in range(i):\n",
        "            catalan[i]+= catalan[j]*catalan[i-j-1]\n",
        "\n",
        "    return catalan[n]\n",
        "          "
      ]
    },
    {
      "cell_type": "code",
      "execution_count": 18,
      "metadata": {},
      "outputs": [
        {
          "name": "stdout",
          "output_type": "stream",
          "text": [
            "1\n",
            "1\n",
            "2\n",
            "5\n",
            "14\n",
            "42\n",
            "132\n",
            "429\n",
            "1430\n",
            "4862\n",
            "16796\n",
            "58786\n",
            "208012\n",
            "742900\n",
            "2674440\n",
            "9694845\n",
            "35357670\n",
            "129644790\n",
            "477638700\n",
            "1767263190\n"
          ]
        }
      ],
      "source": [
        "for i in range(20):\n",
        "    print(findCatalan(i))"
      ]
    }
  ],
  "metadata": {
    "colab": {
      "provenance": []
    },
    "kernelspec": {
      "display_name": "Python 3",
      "name": "python3"
    },
    "language_info": {
      "codemirror_mode": {
        "name": "ipython",
        "version": 3
      },
      "file_extension": ".py",
      "mimetype": "text/x-python",
      "name": "python",
      "nbconvert_exporter": "python",
      "pygments_lexer": "ipython3",
      "version": "3.10.0"
    }
  },
  "nbformat": 4,
  "nbformat_minor": 0
}
